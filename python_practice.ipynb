{
  "nbformat": 4,
  "nbformat_minor": 0,
  "metadata": {
    "colab": {
      "name": "python practice.ipynb",
      "provenance": [],
      "authorship_tag": "ABX9TyMOj2eUXLYuqOxrQ+DyXG+F",
      "include_colab_link": true
    },
    "kernelspec": {
      "name": "python3",
      "display_name": "Python 3"
    },
    "language_info": {
      "name": "python"
    }
  },
  "cells": [
    {
      "cell_type": "markdown",
      "metadata": {
        "id": "view-in-github",
        "colab_type": "text"
      },
      "source": [
        "<a href=\"https://colab.research.google.com/github/nhn09/Python-basics-for-machine-learning/blob/main/python_practice.ipynb\" target=\"_parent\"><img src=\"https://colab.research.google.com/assets/colab-badge.svg\" alt=\"Open In Colab\"/></a>"
      ]
    },
    {
      "cell_type": "code",
      "metadata": {
        "colab": {
          "base_uri": "https://localhost:8080/"
        },
        "id": "oTvCZSqIJpkc",
        "outputId": "7fa90cab-84f3-4a83-deae-81f36fc747ca"
      },
      "source": [
        "type(\"hello\")\n",
        "first_name = 'Fariha'\n",
        "Last_name = 'Rah in'\n",
        "print(len(Last_name))\n",
        "\n",
        "print(\"I am {}, my best friend is Muhtadi {}\".format(first_name, Last_name))"
      ],
      "execution_count": null,
      "outputs": [
        {
          "output_type": "stream",
          "text": [
            "6\n",
            "I am Fariha, my best friend is Muhtadi Rah in\n"
          ],
          "name": "stdout"
        }
      ]
    },
    {
      "cell_type": "markdown",
      "metadata": {
        "id": "eoff9NNdOVET"
      },
      "source": [
        "# Python data structures and Boolean\n",
        "\n",
        "\n",
        "*   Boolean\n",
        "*   logical operators\n",
        "*   List\n",
        "*   Comparison\n",
        "*   Dictionary\n",
        "*   Tuples\n",
        "*   Sets\n",
        "\n"
      ]
    },
    {
      "cell_type": "code",
      "metadata": {
        "colab": {
          "base_uri": "https://localhost:8080/"
        },
        "id": "PGJFEss2OrL2",
        "outputId": "1768e7c4-e1a2-4f52-ec6d-7a8feaa6cd7f"
      },
      "source": [
        "print(Last_name.isalnum())\n",
        "print(Last_name.isalpha())\n",
        "print(Last_name.istitle())\n",
        "print(Last_name.endswith('N'))"
      ],
      "execution_count": null,
      "outputs": [
        {
          "output_type": "stream",
          "text": [
            "False\n",
            "False\n",
            "False\n",
            "False\n"
          ],
          "name": "stdout"
        }
      ]
    },
    {
      "cell_type": "markdown",
      "metadata": {
        "id": "CypwXIhsQGze"
      },
      "source": [
        "*The isalnum()* method returns True if all the characters are alphanumeric, meaning alphabet letter (a-z) and numbers (0-9).\n",
        "\n",
        "Example of characters that are not alphanumeric: (space)!#%&? etc.\n",
        "\n",
        "\n",
        "---\n",
        "RAHIN = TRUE\n",
        "RA HIN = FALSE\n",
        "\n",
        "\n"
      ]
    },
    {
      "cell_type": "code",
      "metadata": {
        "colab": {
          "base_uri": "https://localhost:8080/"
        },
        "id": "1DWVPD9PVBEK",
        "outputId": "dbdf1119-56c6-467a-9a1b-648b8fc1ec31"
      },
      "source": [
        "\n",
        "my_list = list()\n",
        "type(my_list)\n",
        "my_list=['Chittagong', 'Dhaka', 100, [1,2,3]]\n",
        "print(my_list)\n",
        "print(len(my_list[3]))\n",
        "my_list[3].append(\"Vallagche\")\n",
        "print(my_list)\n",
        "\n",
        "my_list[:] #all [ koi theke shuru tar index: ja chai tar cheye ek beshi likhbo ekhane]\n",
        "my_list[1:3]\n",
        "\n",
        "#insert vs append\n",
        "# append() takes exactly one argument. more than one dile \n",
        "#it should be another list jeta eikhane kora hoise. \n",
        "#so eventually creates nested list.\n",
        "\n",
        "my_list.append(['hehe', 'lala'])\n",
        "my_list[:]\n",
        "\n"
      ],
      "execution_count": null,
      "outputs": [
        {
          "output_type": "stream",
          "text": [
            "['Chittagong', 'Dhaka', 100, [1, 2, 3]]\n",
            "3\n",
            "['Chittagong', 'Dhaka', 100, [1, 2, 3, 'Vallagche']]\n"
          ],
          "name": "stdout"
        },
        {
          "output_type": "execute_result",
          "data": {
            "text/plain": [
              "['Chittagong', 'Dhaka', 100, [1, 2, 3, 'Vallagche'], ['hehe', 'lala']]"
            ]
          },
          "metadata": {
            "tags": []
          },
          "execution_count": 76
        }
      ]
    },
    {
      "cell_type": "markdown",
      "metadata": {
        "id": "x0qELgbXcyfc"
      },
      "source": [
        "Negative indexing means start from the end\n",
        "\n",
        "-1 refers to the last item, -2 refers to the second last item etc."
      ]
    },
    {
      "cell_type": "code",
      "metadata": {
        "colab": {
          "base_uri": "https://localhost:8080/"
        },
        "id": "hh1tTU7icyCQ",
        "outputId": "5fd356dc-37a9-4c4e-8b60-8e7fb2d78097"
      },
      "source": [
        "print(my_list[-1])\n"
      ],
      "execution_count": null,
      "outputs": [
        {
          "output_type": "stream",
          "text": [
            "['hehe', 'lala']\n"
          ],
          "name": "stdout"
        }
      ]
    },
    {
      "cell_type": "markdown",
      "metadata": {
        "id": "P9142LuqdTGS"
      },
      "source": [
        "This example returns the items from 100 (-4) to, but NOT including \"['hehe', 'lala']\" (-1):"
      ]
    },
    {
      "cell_type": "code",
      "metadata": {
        "colab": {
          "base_uri": "https://localhost:8080/"
        },
        "id": "Tq9TuNzMdV94",
        "outputId": "eeefd167-ef84-403a-e8a7-f74ed0a5aa1b"
      },
      "source": [
        "print(my_list[-4:-1])"
      ],
      "execution_count": null,
      "outputs": [
        {
          "output_type": "stream",
          "text": [
            "['Dhaka', 100, [1, 2, 3, 'Vallagche']]\n"
          ],
          "name": "stdout"
        }
      ]
    },
    {
      "cell_type": "markdown",
      "metadata": {
        "id": "4jgcQpXfZ2Zy"
      },
      "source": [
        "Now for insert, argument hoi erokom\n",
        "list.insert(kon position e insert kora hobe, ki insert kora hobe)"
      ]
    },
    {
      "cell_type": "code",
      "metadata": {
        "colab": {
          "base_uri": "https://localhost:8080/"
        },
        "id": "0wOi5qciZ-Bv",
        "outputId": "a1bad2db-a775-4f80-baa2-66c805a76991"
      },
      "source": [
        "my_list.insert(3, \"vum\")\n",
        "my_list[:]"
      ],
      "execution_count": null,
      "outputs": [
        {
          "output_type": "execute_result",
          "data": {
            "text/plain": [
              "['Chittagong', 'Dhaka', 100, 'vum', [1, 2, 3, 'Vallagche'], ['hehe', 'lala']]"
            ]
          },
          "metadata": {
            "tags": []
          },
          "execution_count": 79
        }
      ]
    },
    {
      "cell_type": "code",
      "metadata": {
        "id": "EIEkqZBichi6"
      },
      "source": [
        "Number= [1,2,3,4,5]\n"
      ],
      "execution_count": null,
      "outputs": []
    },
    {
      "cell_type": "markdown",
      "metadata": {
        "id": "ece9lcpLdrG_"
      },
      "source": [
        "Check if exists:"
      ]
    },
    {
      "cell_type": "code",
      "metadata": {
        "colab": {
          "base_uri": "https://localhost:8080/"
        },
        "id": "jTS-awzOdwEd",
        "outputId": "cb83438c-40f1-4247-c6df-5460695a77a7"
      },
      "source": [
        "if 100 in my_list:\n",
        "  print(\"Yes , 100 is present.\")"
      ],
      "execution_count": null,
      "outputs": [
        {
          "output_type": "stream",
          "text": [
            "Yes , 100 is present.\n"
          ],
          "name": "stdout"
        }
      ]
    },
    {
      "cell_type": "markdown",
      "metadata": {
        "id": "Uw05lKpdeIoz"
      },
      "source": [
        "To overcome the short comings of append, we can use extend."
      ]
    },
    {
      "cell_type": "code",
      "metadata": {
        "colab": {
          "base_uri": "https://localhost:8080/"
        },
        "id": "GOYGwgDjeOC_",
        "outputId": "b1d2e4f6-29bc-43be-a76a-0157319a1bce"
      },
      "source": [
        "my_list.extend(['you', 'me'])\n",
        "my_list[:]"
      ],
      "execution_count": null,
      "outputs": [
        {
          "output_type": "execute_result",
          "data": {
            "text/plain": [
              "['Chittagong',\n",
              " 'Dhaka',\n",
              " 100,\n",
              " 'vum',\n",
              " [1, 2, 3, 'Vallagche'],\n",
              " ['hehe', 'lala'],\n",
              " 'you',\n",
              " 'me']"
            ]
          },
          "metadata": {
            "tags": []
          },
          "execution_count": 82
        }
      ]
    },
    {
      "cell_type": "code",
      "metadata": {
        "colab": {
          "base_uri": "https://localhost:8080/"
        },
        "id": "56f5vq5Regc9",
        "outputId": "bd1d5fd4-5d03-4c39-a766-522681e68207"
      },
      "source": [
        "sum(Number)\n"
      ],
      "execution_count": null,
      "outputs": [
        {
          "output_type": "execute_result",
          "data": {
            "text/plain": [
              "15"
            ]
          },
          "metadata": {
            "tags": []
          },
          "execution_count": 83
        }
      ]
    },
    {
      "cell_type": "code",
      "metadata": {
        "colab": {
          "base_uri": "https://localhost:8080/"
        },
        "id": "v5etJtOXe54p",
        "outputId": "82b7bb2f-0f34-4d85-ab68-24c31cad8338"
      },
      "source": [
        "Number.pop(3)\n",
        "sum(Number)"
      ],
      "execution_count": null,
      "outputs": [
        {
          "output_type": "execute_result",
          "data": {
            "text/plain": [
              "11"
            ]
          },
          "metadata": {
            "tags": []
          },
          "execution_count": 84
        }
      ]
    },
    {
      "cell_type": "markdown",
      "metadata": {
        "id": "8cePsGW5e_iP"
      },
      "source": [
        "Count: frequency count of an element"
      ]
    },
    {
      "cell_type": "code",
      "metadata": {
        "colab": {
          "base_uri": "https://localhost:8080/"
        },
        "id": "o0cPZfHgfDbg",
        "outputId": "fde6e10f-382f-4afe-9ca6-6cd9926a16c9"
      },
      "source": [
        "my_list.count(['hehe','lala'])\n",
        "my_list.count(\"you\")"
      ],
      "execution_count": null,
      "outputs": [
        {
          "output_type": "execute_result",
          "data": {
            "text/plain": [
              "1"
            ]
          },
          "metadata": {
            "tags": []
          },
          "execution_count": 85
        }
      ]
    },
    {
      "cell_type": "markdown",
      "metadata": {
        "id": "AgbAcEyyZg2r"
      },
      "source": [
        "Set is unordered+ *No Duplicate*\n",
        "<br>it's actually a hash table \n",
        "<br> No indexing <p> hehe</p>"
      ]
    },
    {
      "cell_type": "code",
      "metadata": {
        "colab": {
          "base_uri": "https://localhost:8080/"
        },
        "id": "WhiYh7VjVEcr",
        "outputId": "fe559ab2-c21e-471b-e71b-95823b852c5e"
      },
      "source": [
        "my_set= set()\n",
        "\n",
        "my_set= {\"Avengers\",\"Ironman\",\"AntMan\",\"Avengers\"}\n",
        "\n",
        "print(my_set)"
      ],
      "execution_count": null,
      "outputs": [
        {
          "output_type": "stream",
          "text": [
            "{'Avengers', 'Ironman', 'AntMan'}\n"
          ],
          "name": "stdout"
        }
      ]
    },
    {
      "cell_type": "code",
      "metadata": {
        "colab": {
          "base_uri": "https://localhost:8080/"
        },
        "id": "MdtzOOV8ciDT",
        "outputId": "68d2ba54-c9fa-4976-ad01-25b3452bd699"
      },
      "source": [
        "my_set.add(\"Hulk\")\n",
        "print(my_set)"
      ],
      "execution_count": null,
      "outputs": [
        {
          "output_type": "stream",
          "text": [
            "{'Avengers', 'Ironman', 'AntMan', 'Hulk'}\n"
          ],
          "name": "stdout"
        }
      ]
    },
    {
      "cell_type": "code",
      "metadata": {
        "colab": {
          "base_uri": "https://localhost:8080/"
        },
        "id": "k9Ly5Fepc5TR",
        "outputId": "70b7424d-4bfd-4bfc-d6da-9d3f4d157ef4"
      },
      "source": [
        "my_set2 = {\"Hulk\", \"Bulk\",\"Mulk\"}\n",
        "print(my_set2)"
      ],
      "execution_count": null,
      "outputs": [
        {
          "output_type": "stream",
          "text": [
            "{'Hulk', 'Bulk', 'Mulk'}\n"
          ],
          "name": "stdout"
        }
      ]
    },
    {
      "cell_type": "code",
      "metadata": {
        "colab": {
          "base_uri": "https://localhost:8080/"
        },
        "id": "2HhMZA6XdDtB",
        "outputId": "ca87534e-9a2f-48c5-f6df-b7e9fa82a63e"
      },
      "source": [
        "my_interset=my_set.intersection(my_set2)\n",
        "print(my_interset)"
      ],
      "execution_count": null,
      "outputs": [
        {
          "output_type": "stream",
          "text": [
            "{'Hulk'}\n"
          ],
          "name": "stdout"
        }
      ]
    },
    {
      "cell_type": "code",
      "metadata": {
        "colab": {
          "base_uri": "https://localhost:8080/"
        },
        "id": "_vbEqPckdWBd",
        "outputId": "402112d9-652a-45db-aefd-c1cb87780d2b"
      },
      "source": [
        "my_set.difference(my_set2)"
      ],
      "execution_count": null,
      "outputs": [
        {
          "output_type": "execute_result",
          "data": {
            "text/plain": [
              "{'AntMan', 'Avengers', 'Ironman'}"
            ]
          },
          "metadata": {
            "tags": []
          },
          "execution_count": 7
        }
      ]
    },
    {
      "cell_type": "code",
      "metadata": {
        "id": "eLCqKRJKRyOv"
      },
      "source": [
        "my_set.difference_update(my_set2)\n"
      ],
      "execution_count": null,
      "outputs": []
    },
    {
      "cell_type": "code",
      "metadata": {
        "colab": {
          "base_uri": "https://localhost:8080/"
        },
        "id": "9Ef8g0w7R6Og",
        "outputId": "31c33a86-b557-4cee-9114-226e55ac5b70"
      },
      "source": [
        "print(my_set)"
      ],
      "execution_count": null,
      "outputs": [
        {
          "output_type": "stream",
          "text": [
            "{'Avengers', 'Ironman', 'AntMan'}\n"
          ],
          "name": "stdout"
        }
      ]
    },
    {
      "cell_type": "markdown",
      "metadata": {
        "id": "wGOnGoFKSCEo"
      },
      "source": [
        "# Dictionary : Key value pairs\n",
        "\n",
        "---\n",
        "\n"
      ]
    },
    {
      "cell_type": "code",
      "metadata": {
        "colab": {
          "base_uri": "https://localhost:8080/"
        },
        "id": "fIRr8jpxSIfQ",
        "outputId": "a43cc55a-6890-45bd-df8c-6752ae5683cd"
      },
      "source": [
        "dict_one= {\"My father\":\"Teacher\", \"My mom\": \"Alrounder\"}\n",
        "print (dict_one)"
      ],
      "execution_count": null,
      "outputs": [
        {
          "output_type": "stream",
          "text": [
            "{'My father': 'Teacher', 'My mom': 'Alrounder'}\n"
          ],
          "name": "stdout"
        }
      ]
    },
    {
      "cell_type": "code",
      "metadata": {
        "colab": {
          "base_uri": "https://localhost:8080/"
        },
        "id": "EAGNjie9SrwY",
        "outputId": "5e502396-7d4b-4a13-8826-0b1408267644"
      },
      "source": [
        "for x in dict_one:\n",
        "    print (x)\n",
        "\n",
        "for x in dict_one:\n",
        "    print (dict_one[x])\n",
        "\n",
        "for x in dict_one.items():\n",
        "    print (x)"
      ],
      "execution_count": null,
      "outputs": [
        {
          "output_type": "stream",
          "text": [
            "My father\n",
            "My mom\n",
            "Teacher\n",
            "Alrounder\n",
            "('My father', 'Teacher')\n",
            "('My mom', 'Alrounder')\n"
          ],
          "name": "stdout"
        }
      ]
    },
    {
      "cell_type": "code",
      "metadata": {
        "id": "Aw6x0SRc0jAs"
      },
      "source": [
        "car1_model = {\"Marcedes\": 1930}\n",
        "car2_model = {\"Audi\": 1230}\n",
        "car3_model = {\"Masdhsk\": 4530}"
      ],
      "execution_count": null,
      "outputs": []
    },
    {
      "cell_type": "code",
      "metadata": {
        "id": "5s-gl1iA2Y1U"
      },
      "source": [
        "car_type = { 'car_type1':car1_model,'car_type2':car2_model,'car_type3':car3_model}"
      ],
      "execution_count": null,
      "outputs": []
    },
    {
      "cell_type": "code",
      "metadata": {
        "colab": {
          "base_uri": "https://localhost:8080/"
        },
        "id": "APApH_lc2rS2",
        "outputId": "bcc44961-8236-46eb-e123-abeca51356cb"
      },
      "source": [
        "print(car_type)"
      ],
      "execution_count": null,
      "outputs": [
        {
          "output_type": "stream",
          "text": [
            "{'car_type1': {'Marcedes': 1930}, 'car_type2': {'Audi': 1230}, 'car_type3': {'Masdhsk': 4530}}\n"
          ],
          "name": "stdout"
        }
      ]
    },
    {
      "cell_type": "code",
      "metadata": {
        "colab": {
          "base_uri": "https://localhost:8080/"
        },
        "id": "955G0aRd2y72",
        "outputId": "4fc8136e-f6d8-40e4-9362-9909949a9ad1"
      },
      "source": [
        "print(car_type['car_type1']['Marcedes'])"
      ],
      "execution_count": null,
      "outputs": [
        {
          "output_type": "stream",
          "text": [
            "1930\n"
          ],
          "name": "stdout"
        }
      ]
    },
    {
      "cell_type": "markdown",
      "metadata": {
        "id": "duk0Ilkk4AVj"
      },
      "source": [
        "# Tuple\n",
        "\n",
        "\n",
        "---\n",
        "\n",
        "unmutable ,  elements can't be changed after creation.\n"
      ]
    },
    {
      "cell_type": "code",
      "metadata": {
        "colab": {
          "base_uri": "https://localhost:8080/"
        },
        "id": "Cnmpq9g64S-_",
        "outputId": "3c418723-5359-4911-853e-f0eb08321d58"
      },
      "source": [
        "my_tuple = ('Nohan','Loves','Tree')\n",
        "print(my_tuple)"
      ],
      "execution_count": null,
      "outputs": [
        {
          "output_type": "stream",
          "text": [
            "('Nohan', 'Loves', 'Tree')\n"
          ],
          "name": "stdout"
        }
      ]
    },
    {
      "cell_type": "code",
      "metadata": {
        "colab": {
          "base_uri": "https://localhost:8080/",
          "height": 180
        },
        "id": "Uxe6hQA24ijM",
        "outputId": "198c7328-109f-4029-b1f8-b60d94963456"
      },
      "source": [
        ""
      ],
      "execution_count": null,
      "outputs": [
        {
          "output_type": "error",
          "ename": "TypeError",
          "evalue": "ignored",
          "traceback": [
            "\u001b[0;31m---------------------------------------------------------------------------\u001b[0m",
            "\u001b[0;31mTypeError\u001b[0m                                 Traceback (most recent call last)",
            "\u001b[0;32m<ipython-input-11-c5ca0da2d3b3>\u001b[0m in \u001b[0;36m<module>\u001b[0;34m()\u001b[0m\n\u001b[1;32m      1\u001b[0m \u001b[0;32mfor\u001b[0m \u001b[0mx\u001b[0m \u001b[0;32min\u001b[0m \u001b[0mmy_tuple\u001b[0m\u001b[0;34m:\u001b[0m\u001b[0;34m\u001b[0m\u001b[0;34m\u001b[0m\u001b[0m\n\u001b[0;32m----> 2\u001b[0;31m     \u001b[0mprint\u001b[0m \u001b[0;34m(\u001b[0m\u001b[0mmy_tuple\u001b[0m\u001b[0;34m[\u001b[0m\u001b[0mx\u001b[0m\u001b[0;34m]\u001b[0m\u001b[0;34m)\u001b[0m\u001b[0;34m\u001b[0m\u001b[0;34m\u001b[0m\u001b[0m\n\u001b[0m",
            "\u001b[0;31mTypeError\u001b[0m: tuple indices must be integers or slices, not str"
          ]
        }
      ]
    },
    {
      "cell_type": "markdown",
      "metadata": {
        "id": "L9WYsyXjUD-x"
      },
      "source": [
        "Numpy and inbuilt functions\n"
      ]
    },
    {
      "cell_type": "code",
      "metadata": {
        "id": "L6wBysrVUNr0"
      },
      "source": [
        "import numpy as np\n",
        "my_lst = [1,2,3,4,5]\n",
        "arr = np.array(my_lst)"
      ],
      "execution_count": null,
      "outputs": []
    },
    {
      "cell_type": "code",
      "metadata": {
        "colab": {
          "base_uri": "https://localhost:8080/"
        },
        "id": "4P0wzNU1h1JM",
        "outputId": "a51211fa-57d0-4a4e-e75f-24d082480996"
      },
      "source": [
        "arr"
      ],
      "execution_count": null,
      "outputs": [
        {
          "output_type": "execute_result",
          "data": {
            "text/plain": [
              "array([1, 2, 3, 4, 5])"
            ]
          },
          "metadata": {
            "tags": []
          },
          "execution_count": 3
        }
      ]
    },
    {
      "cell_type": "code",
      "metadata": {
        "colab": {
          "base_uri": "https://localhost:8080/"
        },
        "id": "JYhNaIRvh52g",
        "outputId": "9be7ad83-ad30-416a-c96a-8f5815b8b207"
      },
      "source": [
        "arr.shape"
      ],
      "execution_count": null,
      "outputs": [
        {
          "output_type": "execute_result",
          "data": {
            "text/plain": [
              "(5,)"
            ]
          },
          "metadata": {
            "tags": []
          },
          "execution_count": 4
        }
      ]
    },
    {
      "cell_type": "markdown",
      "metadata": {
        "id": "uUTdptSHMiBE"
      },
      "source": [
        "# Complete Python NumPy Tutorial (Creating Arrays, Indexing, Math, Statistics, Reshaping)\n",
        "\n",
        "Keith Galli\n"
      ]
    },
    {
      "cell_type": "markdown",
      "metadata": {
        "id": "n1L2oLqO-p6W"
      },
      "source": [
        "# New Section"
      ]
    },
    {
      "cell_type": "code",
      "metadata": {
        "colab": {
          "base_uri": "https://localhost:8080/"
        },
        "id": "dz43JpZyMpKy",
        "outputId": "b38ea6ea-ce01-4741-f6ea-770b6abd3e4c"
      },
      "source": [
        "a = np.array([[1,2,3]])\n",
        "print(a)\n",
        "a.shape"
      ],
      "execution_count": null,
      "outputs": [
        {
          "output_type": "stream",
          "text": [
            "[[1 2 3]]\n"
          ],
          "name": "stdout"
        },
        {
          "output_type": "execute_result",
          "data": {
            "text/plain": [
              "(1, 3)"
            ]
          },
          "metadata": {
            "tags": []
          },
          "execution_count": 16
        }
      ]
    },
    {
      "cell_type": "code",
      "metadata": {
        "colab": {
          "base_uri": "https://localhost:8080/"
        },
        "id": "PzLjEWUeKbEA",
        "outputId": "5ce73dc9-ffd3-4f02-befc-ba19045073e0"
      },
      "source": [
        "c = np.array([1,2,3])\n",
        "print(c)\n",
        "c.shape"
      ],
      "execution_count": null,
      "outputs": [
        {
          "output_type": "stream",
          "text": [
            "[1 2 3]\n"
          ],
          "name": "stdout"
        },
        {
          "output_type": "execute_result",
          "data": {
            "text/plain": [
              "(3,)"
            ]
          },
          "metadata": {
            "tags": []
          },
          "execution_count": 17
        }
      ]
    },
    {
      "cell_type": "code",
      "metadata": {
        "colab": {
          "base_uri": "https://localhost:8080/"
        },
        "id": "Gr3SBhwHMple",
        "outputId": "1223d6d7-d3e5-41bf-8e8b-c45fe6a8c8df"
      },
      "source": [
        "b= np.array([[1,2,0],[1,3,2]])\n",
        "\n",
        "\n",
        "#get dimension\n",
        "\n",
        "b.ndim"
      ],
      "execution_count": null,
      "outputs": [
        {
          "output_type": "execute_result",
          "data": {
            "text/plain": [
              "2"
            ]
          },
          "metadata": {
            "tags": []
          },
          "execution_count": 18
        }
      ]
    },
    {
      "cell_type": "code",
      "metadata": {
        "colab": {
          "base_uri": "https://localhost:8080/"
        },
        "id": "NLBfzGGwMqmm",
        "outputId": "dda87b7f-fa23-4047-a0b1-e03969065c10"
      },
      "source": [
        "#get shape\n",
        "b.shape"
      ],
      "execution_count": null,
      "outputs": [
        {
          "output_type": "execute_result",
          "data": {
            "text/plain": [
              "(2, 3)"
            ]
          },
          "metadata": {
            "tags": []
          },
          "execution_count": 8
        }
      ]
    },
    {
      "cell_type": "code",
      "metadata": {
        "colab": {
          "base_uri": "https://localhost:8080/"
        },
        "id": "S3t9BJRxK143",
        "outputId": "b155ec39-4b3b-41b0-c196-b7a71deb884d"
      },
      "source": [
        "#datatye\n",
        "print(b.dtype)\n",
        "print(a.dtype)\n",
        "print(c.dtype)"
      ],
      "execution_count": null,
      "outputs": [
        {
          "output_type": "stream",
          "text": [
            "int64\n",
            "int64\n",
            "int64\n"
          ],
          "name": "stdout"
        }
      ]
    },
    {
      "cell_type": "markdown",
      "metadata": {
        "id": "MDvPLRfxLb1e"
      },
      "source": [
        "Why int64? why not int32?"
      ]
    },
    {
      "cell_type": "code",
      "metadata": {
        "colab": {
          "base_uri": "https://localhost:8080/"
        },
        "id": "HtM7LQyiLfrk",
        "outputId": "43c95fc7-616e-499a-cc69-c4c43b9c1971"
      },
      "source": [
        "#we can impose data type though\n",
        "\n",
        "d = np.array([1,2,3], dtype='int16')\n",
        "print(d.dtype)"
      ],
      "execution_count": null,
      "outputs": [
        {
          "output_type": "stream",
          "text": [
            "int16\n"
          ],
          "name": "stdout"
        }
      ]
    },
    {
      "cell_type": "markdown",
      "metadata": {
        "id": "EzkwtHdyM-19"
      },
      "source": [
        "**Accessing / changing specific elements, rows, columns etc**\n"
      ]
    },
    {
      "cell_type": "code",
      "metadata": {
        "colab": {
          "base_uri": "https://localhost:8080/"
        },
        "id": "FU1UdBCFM8Bg",
        "outputId": "65425de2-63bf-43cb-c546-1691cf5e7def"
      },
      "source": [
        "arr_a = np.array([[1,2,3,4,5,6,7],[8,9,10,11,12,13,14]])\n",
        "print(arr_a)"
      ],
      "execution_count": null,
      "outputs": [
        {
          "output_type": "stream",
          "text": [
            "[[ 1  2  3  4  5  6  7]\n",
            " [ 8  9 10 11 12 13 14]]\n"
          ],
          "name": "stdout"
        }
      ]
    },
    {
      "cell_type": "code",
      "metadata": {
        "colab": {
          "base_uri": "https://localhost:8080/"
        },
        "id": "gC7gJcAFN4yY",
        "outputId": "002ccfb2-3897-4046-fdb8-35deebb3a029"
      },
      "source": [
        "#get specific element  [row, col]\n",
        "\n",
        "arr_a[1,4]"
      ],
      "execution_count": null,
      "outputs": [
        {
          "output_type": "execute_result",
          "data": {
            "text/plain": [
              "12"
            ]
          },
          "metadata": {
            "tags": []
          },
          "execution_count": 22
        }
      ]
    },
    {
      "cell_type": "code",
      "metadata": {
        "colab": {
          "base_uri": "https://localhost:8080/"
        },
        "id": "k1hoqwkHOdc2",
        "outputId": "f3b2aff7-eeec-47e6-bdd9-b221db7ecd98"
      },
      "source": [
        "#get specific row\n",
        "\n",
        "arr_a[1, :]"
      ],
      "execution_count": null,
      "outputs": [
        {
          "output_type": "execute_result",
          "data": {
            "text/plain": [
              "array([ 8,  9, 10, 11, 12, 13, 14])"
            ]
          },
          "metadata": {
            "tags": []
          },
          "execution_count": 25
        }
      ]
    },
    {
      "cell_type": "code",
      "metadata": {
        "colab": {
          "base_uri": "https://localhost:8080/"
        },
        "id": "zpFzUJnLOqfj",
        "outputId": "c088f3b9-467f-4b58-bc47-c6292ccb522e"
      },
      "source": [
        "#specific column \n",
        "arr_a[:, 3]"
      ],
      "execution_count": null,
      "outputs": [
        {
          "output_type": "execute_result",
          "data": {
            "text/plain": [
              "array([ 4, 11])"
            ]
          },
          "metadata": {
            "tags": []
          },
          "execution_count": 28
        }
      ]
    },
    {
      "cell_type": "code",
      "metadata": {
        "colab": {
          "base_uri": "https://localhost:8080/"
        },
        "id": "5Y3Jii8kO2jl",
        "outputId": "474eefbf-3944-4561-a578-31d24ac83ede"
      },
      "source": [
        "#customizing output\n",
        "# [row,start column:end column(exclusive):step size]\n",
        "arr_a[0, 2:6:2] \n",
        "# 1 step gele 3 er por 4, 2 steps gele 5\n",
        "# we can use -1 instead of 6 : arr_a[0, 2:-1:2]"
      ],
      "execution_count": null,
      "outputs": [
        {
          "output_type": "execute_result",
          "data": {
            "text/plain": [
              "array([3, 5])"
            ]
          },
          "metadata": {
            "tags": []
          },
          "execution_count": 30
        }
      ]
    },
    {
      "cell_type": "code",
      "metadata": {
        "colab": {
          "base_uri": "https://localhost:8080/"
        },
        "id": "nsH2J1NlQoko",
        "outputId": "e0619bd2-f1cd-4d15-827c-499f077a24dc"
      },
      "source": [
        "arr_a[1,4] = 15\n",
        "print(arr_a)"
      ],
      "execution_count": null,
      "outputs": [
        {
          "output_type": "stream",
          "text": [
            "[[ 1  2  3  4  5  6  7]\n",
            " [ 8  9 10 11 15 13 14]]\n"
          ],
          "name": "stdout"
        }
      ]
    },
    {
      "cell_type": "code",
      "metadata": {
        "id": "1byR8PdXRk5g"
      },
      "source": [
        "#change all the elements\n",
        "\n",
        "arr_a[:,2:5:2]=0"
      ],
      "execution_count": null,
      "outputs": []
    },
    {
      "cell_type": "code",
      "metadata": {
        "colab": {
          "base_uri": "https://localhost:8080/"
        },
        "id": "pBpxIQYRRobR",
        "outputId": "678ac937-e22c-4423-b895-d13131785a44"
      },
      "source": [
        "print(arr_a)"
      ],
      "execution_count": null,
      "outputs": [
        {
          "output_type": "stream",
          "text": [
            "[[ 1  2  0  4  0  6  7]\n",
            " [ 8  9  0 11  0 13 14]]\n"
          ],
          "name": "stdout"
        }
      ]
    },
    {
      "cell_type": "code",
      "metadata": {
        "colab": {
          "base_uri": "https://localhost:8080/"
        },
        "id": "fDMh80H1lgH5",
        "outputId": "9795f6c4-adf3-402c-cf91-35d29307c255"
      },
      "source": [
        "td_array = np.array([[[1,2],[2,3]],[[3,2],[4,5]]])\n",
        "print(td_array)"
      ],
      "execution_count": null,
      "outputs": [
        {
          "output_type": "stream",
          "text": [
            "[[[1 2]\n",
            "  [2 3]]\n",
            "\n",
            " [[3 2]\n",
            "  [4 5]]]\n"
          ],
          "name": "stdout"
        }
      ]
    },
    {
      "cell_type": "code",
      "metadata": {
        "colab": {
          "base_uri": "https://localhost:8080/"
        },
        "id": "UlIFPLmcl88R",
        "outputId": "c9b2b8c8-faac-4a64-dba3-ea74903a422a"
      },
      "source": [
        "td_array[:,0,0]"
      ],
      "execution_count": null,
      "outputs": [
        {
          "output_type": "execute_result",
          "data": {
            "text/plain": [
              "array([1, 3])"
            ]
          },
          "metadata": {
            "tags": []
          },
          "execution_count": 40
        }
      ]
    },
    {
      "cell_type": "code",
      "metadata": {
        "id": "rrWNDXca8xCT"
      },
      "source": [
        "td_array[0,:,1]=[5,5]"
      ],
      "execution_count": null,
      "outputs": []
    },
    {
      "cell_type": "code",
      "metadata": {
        "colab": {
          "base_uri": "https://localhost:8080/"
        },
        "id": "BcLI3wWH9XTC",
        "outputId": "fda1902d-0332-493b-ef8c-92925b248359"
      },
      "source": [
        "print(td_array)"
      ],
      "execution_count": null,
      "outputs": [
        {
          "output_type": "stream",
          "text": [
            "[[[1 5]\n",
            "  [2 5]]\n",
            "\n",
            " [[3 2]\n",
            "  [4 5]]]\n"
          ],
          "name": "stdout"
        }
      ]
    },
    {
      "cell_type": "markdown",
      "metadata": {
        "id": "aXI_BkZ7-Ms8"
      },
      "source": [
        "Initialize different types of array"
      ]
    },
    {
      "cell_type": "code",
      "metadata": {
        "colab": {
          "base_uri": "https://localhost:8080/"
        },
        "id": "GRWFmIUI-QL_",
        "outputId": "e40d7aa0-d79a-46e5-a705-1dd08dabc8b3"
      },
      "source": [
        "#all 0's\n",
        "np.zeros(5)"
      ],
      "execution_count": null,
      "outputs": [
        {
          "output_type": "execute_result",
          "data": {
            "text/plain": [
              "array([0., 0., 0., 0., 0.])"
            ]
          },
          "metadata": {
            "tags": []
          },
          "execution_count": 43
        }
      ]
    },
    {
      "cell_type": "code",
      "metadata": {
        "colab": {
          "base_uri": "https://localhost:8080/"
        },
        "id": "T_ldKFR8_bzd",
        "outputId": "da7a51c9-f99f-42b3-874f-7783ed8f04bd"
      },
      "source": [
        "np.zeros(((5,3,4)))"
      ],
      "execution_count": null,
      "outputs": [
        {
          "output_type": "execute_result",
          "data": {
            "text/plain": [
              "array([[[0., 0., 0., 0.],\n",
              "        [0., 0., 0., 0.],\n",
              "        [0., 0., 0., 0.]],\n",
              "\n",
              "       [[0., 0., 0., 0.],\n",
              "        [0., 0., 0., 0.],\n",
              "        [0., 0., 0., 0.]],\n",
              "\n",
              "       [[0., 0., 0., 0.],\n",
              "        [0., 0., 0., 0.],\n",
              "        [0., 0., 0., 0.]],\n",
              "\n",
              "       [[0., 0., 0., 0.],\n",
              "        [0., 0., 0., 0.],\n",
              "        [0., 0., 0., 0.]],\n",
              "\n",
              "       [[0., 0., 0., 0.],\n",
              "        [0., 0., 0., 0.],\n",
              "        [0., 0., 0., 0.]]])"
            ]
          },
          "metadata": {
            "tags": []
          },
          "execution_count": 50
        }
      ]
    },
    {
      "cell_type": "code",
      "metadata": {
        "colab": {
          "base_uri": "https://localhost:8080/"
        },
        "id": "qHYP9vMSCsxU",
        "outputId": "fa6d9da2-c3ac-4735-d38b-8b87054ab1a0"
      },
      "source": [
        "np.ones((2,3,4))"
      ],
      "execution_count": null,
      "outputs": [
        {
          "output_type": "execute_result",
          "data": {
            "text/plain": [
              "array([[[1., 1., 1., 1.],\n",
              "        [1., 1., 1., 1.],\n",
              "        [1., 1., 1., 1.]],\n",
              "\n",
              "       [[1., 1., 1., 1.],\n",
              "        [1., 1., 1., 1.],\n",
              "        [1., 1., 1., 1.]]])"
            ]
          },
          "metadata": {
            "tags": []
          },
          "execution_count": 51
        }
      ]
    },
    {
      "cell_type": "code",
      "metadata": {
        "id": "jeGet0rdCwvN"
      },
      "source": [
        "#any other number\n",
        "\n",
        "fill_array=np.full((2,4,3), 10)"
      ],
      "execution_count": null,
      "outputs": []
    },
    {
      "cell_type": "code",
      "metadata": {
        "colab": {
          "base_uri": "https://localhost:8080/"
        },
        "id": "Uef4LePEC9NN",
        "outputId": "65d2953d-3b5b-484e-b6df-970a6cc6bd55"
      },
      "source": [
        "# prebuilt array fill\n",
        "\n",
        "np.full(fill_array.shape , 5)\n"
      ],
      "execution_count": null,
      "outputs": [
        {
          "output_type": "execute_result",
          "data": {
            "text/plain": [
              "array([[[5, 5, 5],\n",
              "        [5, 5, 5],\n",
              "        [5, 5, 5],\n",
              "        [5, 5, 5]],\n",
              "\n",
              "       [[5, 5, 5],\n",
              "        [5, 5, 5],\n",
              "        [5, 5, 5],\n",
              "        [5, 5, 5]]])"
            ]
          },
          "metadata": {
            "tags": []
          },
          "execution_count": 54
        }
      ]
    },
    {
      "cell_type": "code",
      "metadata": {
        "colab": {
          "base_uri": "https://localhost:8080/"
        },
        "id": "vP6f58ZFDlrG",
        "outputId": "63c4a096-26b5-4691-ab62-500996ee2f8e"
      },
      "source": [
        "#or\n",
        "\n",
        "np.full_like(fill_array,2)"
      ],
      "execution_count": null,
      "outputs": [
        {
          "output_type": "execute_result",
          "data": {
            "text/plain": [
              "array([[[2, 2, 2],\n",
              "        [2, 2, 2],\n",
              "        [2, 2, 2],\n",
              "        [2, 2, 2]],\n",
              "\n",
              "       [[2, 2, 2],\n",
              "        [2, 2, 2],\n",
              "        [2, 2, 2],\n",
              "        [2, 2, 2]]])"
            ]
          },
          "metadata": {
            "tags": []
          },
          "execution_count": 55
        }
      ]
    },
    {
      "cell_type": "code",
      "metadata": {
        "colab": {
          "base_uri": "https://localhost:8080/"
        },
        "id": "QaZ-vOQ3DyUp",
        "outputId": "31e8e6cd-04fa-4fea-c234-6dc6a110e8cf"
      },
      "source": [
        "#random decimal numbers\n",
        "\n",
        "np.random.rand(3,4,3)"
      ],
      "execution_count": null,
      "outputs": [
        {
          "output_type": "execute_result",
          "data": {
            "text/plain": [
              "array([[[0.57344686, 0.84729537, 0.50937568],\n",
              "        [0.22853389, 0.89990061, 0.5258612 ],\n",
              "        [0.52781003, 0.39706516, 0.36261207],\n",
              "        [0.9510356 , 0.02476657, 0.55524966]],\n",
              "\n",
              "       [[0.4419968 , 0.74515187, 0.97776979],\n",
              "        [0.99089775, 0.74218628, 0.8838686 ],\n",
              "        [0.92739299, 0.44679355, 0.21534921],\n",
              "        [0.00966356, 0.62471697, 0.56605893]],\n",
              "\n",
              "       [[0.02350806, 0.21103895, 0.38506809],\n",
              "        [0.0667469 , 0.01128374, 0.46169967],\n",
              "        [0.98383251, 0.41914297, 0.93524437],\n",
              "        [0.30551119, 0.04300281, 0.37185679]]])"
            ]
          },
          "metadata": {
            "tags": []
          },
          "execution_count": 57
        }
      ]
    },
    {
      "cell_type": "code",
      "metadata": {
        "colab": {
          "base_uri": "https://localhost:8080/"
        },
        "id": "87NZRbPbHZpU",
        "outputId": "2876fd06-6025-486e-b4d8-b14e7a30f005"
      },
      "source": [
        "#random integer\n",
        "\n",
        "np.random.randint(5,9, size=(3,2,4))\n",
        "\n",
        "# 9 exlusive"
      ],
      "execution_count": null,
      "outputs": [
        {
          "output_type": "execute_result",
          "data": {
            "text/plain": [
              "array([[[8, 6, 8, 5],\n",
              "        [8, 7, 5, 8]],\n",
              "\n",
              "       [[7, 8, 6, 8],\n",
              "        [5, 5, 5, 7]],\n",
              "\n",
              "       [[5, 7, 6, 5],\n",
              "        [7, 5, 5, 8]]])"
            ]
          },
          "metadata": {
            "tags": []
          },
          "execution_count": 58
        }
      ]
    },
    {
      "cell_type": "code",
      "metadata": {
        "colab": {
          "base_uri": "https://localhost:8080/"
        },
        "id": "elRb5MSIH1XQ",
        "outputId": "693f2b31-6790-45a4-fd5b-50a2b094f4a4"
      },
      "source": [
        "np.identity(4)"
      ],
      "execution_count": null,
      "outputs": [
        {
          "output_type": "execute_result",
          "data": {
            "text/plain": [
              "array([[1., 0., 0., 0.],\n",
              "       [0., 1., 0., 0.],\n",
              "       [0., 0., 1., 0.],\n",
              "       [0., 0., 0., 1.]])"
            ]
          },
          "metadata": {
            "tags": []
          },
          "execution_count": 59
        }
      ]
    },
    {
      "cell_type": "code",
      "metadata": {
        "id": "asV5FOomH4h7"
      },
      "source": [
        "build_practice = np.ones((5,5))\n",
        "build_practice[1:4:2,1:4]=0\n",
        "build_practice[2,1:4]=[0,9,0]\n",
        "print(build_practice)\n"
      ],
      "execution_count": null,
      "outputs": []
    },
    {
      "cell_type": "markdown",
      "metadata": {
        "id": "59fbHeNaJ0HL"
      },
      "source": [
        "# **Beware of matrix copy!!!**"
      ]
    },
    {
      "cell_type": "code",
      "metadata": {
        "colab": {
          "base_uri": "https://localhost:8080/"
        },
        "id": "7Ng1GueSJxH8",
        "outputId": "2ddbf787-d6a0-4211-ea64-7b9cb34b4d21"
      },
      "source": [
        "copy_arr = np.random.randint(1,5,size=(2,3,4))\n",
        "print(copy_arr)\n",
        "paste_arr = copy_arr\n",
        "paste_arr[1,1,1]=10\n",
        "print(copy_arr)\n",
        "print(paste_arr)\n",
        "\n",
        "#the source is also changed which is unexpected"
      ],
      "execution_count": null,
      "outputs": [
        {
          "output_type": "stream",
          "text": [
            "[[[3 4 2 3]\n",
            "  [1 1 1 4]\n",
            "  [4 3 2 2]]\n",
            "\n",
            " [[1 3 1 4]\n",
            "  [4 3 2 1]\n",
            "  [4 2 2 2]]]\n",
            "[[[ 3  4  2  3]\n",
            "  [ 1  1  1  4]\n",
            "  [ 4  3  2  2]]\n",
            "\n",
            " [[ 1  3  1  4]\n",
            "  [ 4 10  2  1]\n",
            "  [ 4  2  2  2]]]\n",
            "[[[ 3  4  2  3]\n",
            "  [ 1  1  1  4]\n",
            "  [ 4  3  2  2]]\n",
            "\n",
            " [[ 1  3  1  4]\n",
            "  [ 4 10  2  1]\n",
            "  [ 4  2  2  2]]]\n"
          ],
          "name": "stdout"
        }
      ]
    },
    {
      "cell_type": "code",
      "metadata": {
        "colab": {
          "base_uri": "https://localhost:8080/"
        },
        "id": "YY8GF04eNMKI",
        "outputId": "a1389297-f895-47f5-f018-b7fd4b3d4030"
      },
      "source": [
        "#to prevent \n",
        "copy_arr = np.random.randint(1,5,size=(1,2))\n",
        "print(copy_arr)\n",
        "paste_arr = copy_arr.copy()\n",
        "paste_arr[0,1]=10\n",
        "print(copy_arr)\n",
        "print(paste_arr)\n"
      ],
      "execution_count": null,
      "outputs": [
        {
          "output_type": "stream",
          "text": [
            "[[1 3]]\n",
            "[[1 3]]\n",
            "[[ 1 10]]\n"
          ],
          "name": "stdout"
        }
      ]
    },
    {
      "cell_type": "code",
      "metadata": {
        "colab": {
          "base_uri": "https://localhost:8080/"
        },
        "id": "sOsln2ihNhhj",
        "outputId": "9bc5c7f9-3e3d-4b2d-c229-80d59351e369"
      },
      "source": [
        "np.sin(paste_arr)"
      ],
      "execution_count": null,
      "outputs": [
        {
          "output_type": "execute_result",
          "data": {
            "text/plain": [
              "array([[ 0.84147098, -0.54402111]])"
            ]
          },
          "metadata": {
            "tags": []
          },
          "execution_count": 69
        }
      ]
    },
    {
      "cell_type": "markdown",
      "metadata": {
        "id": "NoLgqwmHOjd4"
      },
      "source": [
        "# **Linear algebra**\n",
        "\n"
      ]
    },
    {
      "cell_type": "code",
      "metadata": {
        "colab": {
          "base_uri": "https://localhost:8080/"
        },
        "id": "ujV-xHklOq2s",
        "outputId": "28f8c74c-4983-4f22-905b-992600c8a81a"
      },
      "source": [
        "a= np.ones((3,3))\n",
        "b =np.random.randint(1,5, size= (3,3))\n",
        "print(a)\n",
        "print(b)\n",
        "c = np.matmul(a,b)\n",
        "np.linalg.det(c)\n"
      ],
      "execution_count": null,
      "outputs": [
        {
          "output_type": "stream",
          "text": [
            "[[1. 1. 1.]\n",
            " [1. 1. 1.]\n",
            " [1. 1. 1.]]\n",
            "[[2 4 3]\n",
            " [2 1 2]\n",
            " [4 2 4]]\n"
          ],
          "name": "stdout"
        },
        {
          "output_type": "execute_result",
          "data": {
            "text/plain": [
              "0.0"
            ]
          },
          "metadata": {
            "tags": []
          },
          "execution_count": 79
        }
      ]
    }
  ]
}